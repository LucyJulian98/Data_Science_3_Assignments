{
 "cells": [
  {
   "cell_type": "markdown",
   "metadata": {},
   "source": [
    "# Problem Set 1\n",
    "## PPOL 566\n",
    "\n",
    "For this assignment, you must submit a completed version of this notebook on Canvas no later than **11:59 PM on Wednesday, September 7**. The filename must end with your Georgetown NetID.\n",
    "\n",
    "**Written responses** must be written in Markdown within the notebook. For full credit, responses must be written in complete sentences with proper spelling and grammar. Any references included must be properly cited. Failure to properly cite sources will result in a zero on the assignment.\n",
    "\n",
    "**Code** must run without warnings or errors. Scripts that produce errors will receive zero points for those sections. For full credit, code must be free of semantic errors, be written with liberal comments, include meaningful variable names, and use control structures to minimize repetition (three or more instances of nearly identical statements. NOTE: There is an empty cell after each problem. This does not mean that all code for a given section must be placed in one cell. You may use as many cells as you would like for each section."
   ]
  },
  {
   "cell_type": "markdown",
   "metadata": {},
   "source": [
    "## Part 1"
   ]
  },
  {
   "cell_type": "markdown",
   "metadata": {},
   "source": [
    "### 1.1) Discuss two ways that domain expertise can be applied to unsupervised learning methods."
   ]
  },
  {
   "cell_type": "markdown",
   "metadata": {},
   "source": [
    "<font face = \"Arial\" size = 3>\n",
    "Domain expertise is useful when dealing with outliers. With domain knowledge it is possible to determine and decide if an outlier can be easily excluded from the analysis or should still be kept in and examined separately. \n",
    "Domain knowledge is also helpful when trying to intepret the results and patterns captured by unsupervised learning methods which is an inherently difficult task due to the lack of labelled data. \n",
    "</font>"
   ]
  },
  {
   "cell_type": "markdown",
   "metadata": {},
   "source": [
    "### 1.2) Describe one scenario in which you *would* use principal components analysis and describe another scenario in which you *would not* use principal components analysis."
   ]
  },
  {
   "cell_type": "markdown",
   "metadata": {},
   "source": [
    "<font face = \"Arial\" size = 3>\n",
    "Principal Component Analysis or PCA is an effective tool for dimensionality reduction. It is particularly useful for datasets with high dimensions and which have an underlying linear structure(Lever, 2017). One common use case of PCA is in studying effect of different genes in a living organism. It is useful to reduce dimensionality in such cases as the number of features(in this case, genes) might be large. <br>\n",
    "PCA breaks down in cases of non-linearity or high correlation in the dataset(Lever, 2017). This is because the principal components are orthogonal to each other and in case of high correlation, we might not obtain more than one principal component. \n",
    "</font>"
   ]
  },
  {
   "cell_type": "markdown",
   "metadata": {},
   "source": [
    "### 1.3) Define standardization and discuss its usage with principal components analysis and clustering.  Must data always be standardized?"
   ]
  },
  {
   "cell_type": "markdown",
   "metadata": {},
   "source": [
    "<font face = \"Arial\" size = 3>\n",
    "Standardization is a preprocessing step that transforms data to a single scale. After tranformation, all the data points are centered around a mean value of 0 and a standard deviation of 1. It is a very useful tool when dealing with features that have different scales or when the variables have dramatically different variances(Lever, 2017) as we need the analysis to be scale agnostic otherwise the variance captured in the data will be due to larger magnitudes and not actual variance. In Principal Component Analysis(PCA)we try to determine the features that capture the maximum variance, so not standardizing the data might lead to erroneous results.<br>\n",
    "Data doen't always need to standardized. This is especially true when the feautures in question have the same scale. In those instances, it is beneficial to capture the variances using the original dataset. \n",
    "</font>"
   ]
  },
  {
   "cell_type": "markdown",
   "metadata": {},
   "source": [
    "## Part 2\n",
    "The **data** file for this assignment is called **pset1_data.csv** and can be found in the Data folder on Canvas. The dataset includes 876 observations for the following individual personality ratings:\n",
    " * Openness to experience\n",
    " * Conscientiousness\n",
    " * Extraversion\n",
    " * Agreeableness\n",
    " * Neuroticism\n",
    " \n",
    "Together, these are known as the Big Five personality traits, often abbreviated **OCEAN**."
   ]
  },
  {
   "cell_type": "code",
   "execution_count": 44,
   "metadata": {},
   "outputs": [
    {
     "name": "stdout",
     "output_type": "stream",
     "text": [
      "Dimensions of data frame :  (876, 5)\n",
      "Columns :  ['Nscore', 'Escore', 'Oscore', 'Ascore', 'Cscore']\n",
      "Column data types :  Nscore    float64\n",
      "Escore    float64\n",
      "Oscore    float64\n",
      "Ascore    float64\n",
      "Cscore    float64\n",
      "dtype: object\n",
      "Head of the data frame : \n"
     ]
    },
    {
     "data": {
      "text/html": [
       "<div>\n",
       "<style scoped>\n",
       "    .dataframe tbody tr th:only-of-type {\n",
       "        vertical-align: middle;\n",
       "    }\n",
       "\n",
       "    .dataframe tbody tr th {\n",
       "        vertical-align: top;\n",
       "    }\n",
       "\n",
       "    .dataframe thead th {\n",
       "        text-align: right;\n",
       "    }\n",
       "</style>\n",
       "<table border=\"1\" class=\"dataframe\">\n",
       "  <thead>\n",
       "    <tr style=\"text-align: right;\">\n",
       "      <th></th>\n",
       "      <th>Nscore</th>\n",
       "      <th>Escore</th>\n",
       "      <th>Oscore</th>\n",
       "      <th>Ascore</th>\n",
       "      <th>Cscore</th>\n",
       "    </tr>\n",
       "  </thead>\n",
       "  <tbody>\n",
       "    <tr>\n",
       "      <th>0</th>\n",
       "      <td>0.31287</td>\n",
       "      <td>-0.57545</td>\n",
       "      <td>-0.58331</td>\n",
       "      <td>-0.91699</td>\n",
       "      <td>-0.00665</td>\n",
       "    </tr>\n",
       "    <tr>\n",
       "      <th>1</th>\n",
       "      <td>-0.67825</td>\n",
       "      <td>-0.30033</td>\n",
       "      <td>-1.55521</td>\n",
       "      <td>2.03972</td>\n",
       "      <td>1.63088</td>\n",
       "    </tr>\n",
       "    <tr>\n",
       "      <th>2</th>\n",
       "      <td>-1.32828</td>\n",
       "      <td>1.93886</td>\n",
       "      <td>-0.84732</td>\n",
       "      <td>-0.30172</td>\n",
       "      <td>1.63088</td>\n",
       "    </tr>\n",
       "    <tr>\n",
       "      <th>3</th>\n",
       "      <td>0.62967</td>\n",
       "      <td>2.57309</td>\n",
       "      <td>-0.97631</td>\n",
       "      <td>0.76096</td>\n",
       "      <td>1.13407</td>\n",
       "    </tr>\n",
       "    <tr>\n",
       "      <th>4</th>\n",
       "      <td>-0.79151</td>\n",
       "      <td>0.80523</td>\n",
       "      <td>-0.01928</td>\n",
       "      <td>0.94156</td>\n",
       "      <td>3.46436</td>\n",
       "    </tr>\n",
       "  </tbody>\n",
       "</table>\n",
       "</div>"
      ],
      "text/plain": [
       "    Nscore   Escore   Oscore   Ascore   Cscore\n",
       "0  0.31287 -0.57545 -0.58331 -0.91699 -0.00665\n",
       "1 -0.67825 -0.30033 -1.55521  2.03972  1.63088\n",
       "2 -1.32828  1.93886 -0.84732 -0.30172  1.63088\n",
       "3  0.62967  2.57309 -0.97631  0.76096  1.13407\n",
       "4 -0.79151  0.80523 -0.01928  0.94156  3.46436"
      ]
     },
     "execution_count": 44,
     "metadata": {},
     "output_type": "execute_result"
    }
   ],
   "source": [
    "### Prelimenaries \n",
    "### Importing required packages \n",
    "import pandas as pd\n",
    "import numpy as np\n",
    "import matplotlib.pyplot as plt\n",
    "from sklearn.preprocessing import StandardScaler\n",
    "from sklearn.decomposition import PCA\n",
    "\n",
    "### Reading in the data \n",
    "df_personality = pd.read_csv(\"pset1_data.csv\")\n",
    "\n",
    "### Exploring the data\n",
    "print(\"Dimensions of data frame : \", df_personality.shape)\n",
    "print(\"Columns : \" ,list(df_personality.columns))\n",
    "print(\"Column data types : \", df_personality.dtypes)\n",
    "print(\"Head of the data frame : \")\n",
    "df_personality.head()"
   ]
  },
  {
   "cell_type": "markdown",
   "metadata": {},
   "source": [
    "### 2.1) Perform a dimensionality reduction using Principal Components Analysis. "
   ]
  },
  {
   "cell_type": "code",
   "execution_count": 45,
   "metadata": {},
   "outputs": [],
   "source": [
    "def pca_process(df) :\n",
    "    \"\"\"\n",
    "    Function to perform Principal Component Analysis(PCA) on a given dataframe. \n",
    "\n",
    "    Arguments : \n",
    "    ~~~~~~~~~~~\n",
    "    df : Object of class DataFrame that has to go through PCA\n",
    "\n",
    "    Returns :\n",
    "    ~~~~~~~~~~~\n",
    "    pca_dict : Dictionary object with the results from performing PCA \n",
    "    \n",
    "    \"\"\"\n",
    "    ### Standardizing the dataset \n",
    "    st_scaler = StandardScaler()\n",
    "    df_columns = list(df.columns)\n",
    "    n = df.shape[1] ### No. of columns in data frame \n",
    "    df_scaled = pd.DataFrame(st_scaler.fit_transform(df), columns = df_columns)\n",
    "    \n",
    "    ### Fitting the dataset to PCA \n",
    "    pca_model = PCA()\n",
    "    pca_model.fit(df_scaled)\n",
    "\n",
    "    ### Getting the loadings matrix \n",
    "    Z_matrix = np.transpose(pca_model.components_)\n",
    "    Z_Columns = [f\"Z{i}\" for i in range(1, n+1)] ### Getting column names for Z matrix \n",
    "    Z_df = pd.DataFrame(Z_matrix, index = df_columns, columns = Z_Columns)\n",
    "\n",
    "    ### Getting  the variance proportions \n",
    "    var_props = pca_model.explained_variance_ratio_\n",
    "\n",
    "    ### Dictionary containing the results of the PCA model \n",
    "    pca_dict = {\n",
    "        \"Loadings Table\" : Z_df,\n",
    "        \"Variance Proportions\" : var_props\n",
    "    }\n",
    "    \n",
    "    return pca_dict\n",
    "\n",
    "### Calling the function and storing returned dictionary \n",
    "pca_results = pca_process(df_personality)"
   ]
  },
  {
   "cell_type": "markdown",
   "metadata": {},
   "source": [
    "### 2.2) Display a table of principal component loadings. "
   ]
  },
  {
   "cell_type": "code",
   "execution_count": 46,
   "metadata": {},
   "outputs": [
    {
     "data": {
      "text/html": [
       "<div>\n",
       "<style scoped>\n",
       "    .dataframe tbody tr th:only-of-type {\n",
       "        vertical-align: middle;\n",
       "    }\n",
       "\n",
       "    .dataframe tbody tr th {\n",
       "        vertical-align: top;\n",
       "    }\n",
       "\n",
       "    .dataframe thead th {\n",
       "        text-align: right;\n",
       "    }\n",
       "</style>\n",
       "<table border=\"1\" class=\"dataframe\">\n",
       "  <thead>\n",
       "    <tr style=\"text-align: right;\">\n",
       "      <th></th>\n",
       "      <th>Z1</th>\n",
       "      <th>Z2</th>\n",
       "      <th>Z3</th>\n",
       "      <th>Z4</th>\n",
       "      <th>Z5</th>\n",
       "    </tr>\n",
       "  </thead>\n",
       "  <tbody>\n",
       "    <tr>\n",
       "      <th>Nscore</th>\n",
       "      <td>0.561962</td>\n",
       "      <td>0.040939</td>\n",
       "      <td>0.256371</td>\n",
       "      <td>0.570327</td>\n",
       "      <td>0.539930</td>\n",
       "    </tr>\n",
       "    <tr>\n",
       "      <th>Escore</th>\n",
       "      <td>-0.523148</td>\n",
       "      <td>0.381223</td>\n",
       "      <td>-0.306198</td>\n",
       "      <td>-0.034267</td>\n",
       "      <td>0.697176</td>\n",
       "    </tr>\n",
       "    <tr>\n",
       "      <th>Oscore</th>\n",
       "      <td>-0.033766</td>\n",
       "      <td>0.860811</td>\n",
       "      <td>0.213478</td>\n",
       "      <td>0.244960</td>\n",
       "      <td>-0.390239</td>\n",
       "    </tr>\n",
       "    <tr>\n",
       "      <th>Ascore</th>\n",
       "      <td>-0.387330</td>\n",
       "      <td>-0.119581</td>\n",
       "      <td>0.886913</td>\n",
       "      <td>-0.156674</td>\n",
       "      <td>0.156571</td>\n",
       "    </tr>\n",
       "    <tr>\n",
       "      <th>Cscore</th>\n",
       "      <td>-0.509264</td>\n",
       "      <td>-0.312567</td>\n",
       "      <td>-0.091268</td>\n",
       "      <td>0.767464</td>\n",
       "      <td>-0.213591</td>\n",
       "    </tr>\n",
       "  </tbody>\n",
       "</table>\n",
       "</div>"
      ],
      "text/plain": [
       "              Z1        Z2        Z3        Z4        Z5\n",
       "Nscore  0.561962  0.040939  0.256371  0.570327  0.539930\n",
       "Escore -0.523148  0.381223 -0.306198 -0.034267  0.697176\n",
       "Oscore -0.033766  0.860811  0.213478  0.244960 -0.390239\n",
       "Ascore -0.387330 -0.119581  0.886913 -0.156674  0.156571\n",
       "Cscore -0.509264 -0.312567 -0.091268  0.767464 -0.213591"
      ]
     },
     "execution_count": 46,
     "metadata": {},
     "output_type": "execute_result"
    }
   ],
   "source": [
    "### Matrix Z \n",
    "### Accessing the Z_matrix from the dictionary \n",
    "pca_results[\"Loadings Table\"]"
   ]
  },
  {
   "cell_type": "markdown",
   "metadata": {},
   "source": [
    "### 2.3) Provide an interpretation of the loadings for the first two components."
   ]
  },
  {
   "cell_type": "markdown",
   "metadata": {},
   "source": [
    "<font face = \"Arial\" size = 3>\n",
    "There are two ways of interpreting the principal components (PCs). The PC places larger weights on all variables except Oscore i.e. openness to experience. The weights on Nscore, Escore and Cscore are pretty near each other in magnitude. The Nscore has opposite sign to others which shows that it is inversely proportional to the other scores which could be interpreted as when extraversion increases, neuroticism decreases and vice versa. This pc could be capturing this inverse nature between positive attributes and neuroticism and be referring to the neuroticism of the person or observation. \n",
    "The second principal component lays more emphasis on openness to experience and extraversion compared to other traits. This component might be related to the extravertedness of the person.<br> <br> \n",
    "In the second interpretation, the first two PCs form a plane where the observations have maxiumum variance. (James, 2021)\n",
    "</font>"
   ]
  },
  {
   "cell_type": "markdown",
   "metadata": {},
   "source": [
    "### 2.4) Create a scree plot based on the PCA results."
   ]
  },
  {
   "cell_type": "code",
   "execution_count": 78,
   "metadata": {},
   "outputs": [
    {
     "data": {
      "image/png": "[encoded data removed]",
      "text/plain": [
       "<Figure size 1080x720 with 1 Axes>"
      ]
     },
     "metadata": {
      "needs_background": "light"
     },
     "output_type": "display_data"
    }
   ],
   "source": [
    "### Generating the scree plot \n",
    "### Accessing the Variance Proportion from the dictionary\n",
    "y = pca_results[\"Variance Proportions\"]\n",
    "x = np.arange(5)\n",
    "xticks_labels = [f\"PC{i}\" for i in range(1, len(y)+1)]\n",
    "\n",
    "plt.figure(figsize = (15, 10))\n",
    "plt.plot(y, marker = 'o')\n",
    "plt.xticks(x, xticks_labels)\n",
    "plt.title(\"Scree Plot\", fontsize = 18)\n",
    "plt.xlabel(\"Principal Components\", fontsize = 14)\n",
    "plt.ylabel(\"Variance Proportions\", fontsize = 14)\n",
    "for i in range(len(y)) : ### For labelling data points \n",
    "    plt.text(x[i]+0.03, y[i], round(y[i],3), size = 12)\n",
    "\n",
    "plt.show()"
   ]
  },
  {
   "cell_type": "markdown",
   "metadata": {},
   "source": [
    "### 2.5) Based on your interpretation of the scree plot, how many principal components would you keep?"
   ]
  },
  {
   "cell_type": "markdown",
   "metadata": {},
   "source": [
    "<font face = \"Arial\" size = 3>\n",
    "Based on the scree plot and the values obtained from the explained_variance_ratio_ attribute of the PCA model, I'd keep the first four principal components as they capture around 90% of the variation in the data. \n",
    "</font>"
   ]
  },
  {
   "cell_type": "markdown",
   "metadata": {},
   "source": [
    "<font face = \"Arial\" size = 3>\n",
    "<b>References : </b> <br>\n",
    "James, G & Witten, D & et.al <i> An Introduction to Statistical Learning</i> <b>2021</b><br>\n",
    "Lever, J & Krzywinski, M & Altman, N <i>Points of Significance : Principal Component Analysis</i> <b>2017</b>\n",
    "\n",
    "</font>\n"
   ]
  },
  {
   "cell_type": "markdown",
   "metadata": {},
   "source": []
  }
 ],
 "metadata": {
  "kernelspec": {
   "display_name": "Python 3.9.1 64-bit ('3.9.1')",
   "language": "python",
   "name": "python3"
  },
  "language_info": {
   "codemirror_mode": {
    "name": "ipython",
    "version": 3
   },
   "file_extension": ".py",
   "mimetype": "text/x-python",
   "name": "python",
   "nbconvert_exporter": "python",
   "pygments_lexer": "ipython3",
   "version": "3.9.1"
  },
  "vscode": {
   "interpreter": {
    "hash": "6fae80e112f14dc1df0e0a458aa9398ca3554d3b6811e47ae4c862983f6c2550"
   }
  }
 },
 "nbformat": 4,
 "nbformat_minor": 2
}
